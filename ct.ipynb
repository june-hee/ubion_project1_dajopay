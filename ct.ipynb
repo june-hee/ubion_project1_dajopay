{
 "cells": [
  {
   "cell_type": "code",
   "execution_count": 10,
   "metadata": {},
   "outputs": [
    {
     "name": "stdout",
     "output_type": "stream",
     "text": [
      "True\n",
      "False\n"
     ]
    }
   ],
   "source": [
    "\n",
    "def test(s):\n",
    "    p_cnt = 0\n",
    "    y_cnt = 0\n",
    "    for i in range(0, len(s)):\n",
    "        if s[i] == 'p' or s[i]== 'P':\n",
    "            p_cnt += 1\n",
    "        elif s[i] == 'y' or s[i] == 'Y':\n",
    "            y_cnt += 1\n",
    "\n",
    "    if p_cnt == y_cnt:\n",
    "        return True\n",
    "    else:\n",
    "        return False\n",
    "\n",
    "print(test(\"pPooyY\"))\n",
    "print(test('Pyy'))"
   ]
  },
  {
   "cell_type": "code",
   "execution_count": 28,
   "metadata": {},
   "outputs": [
    {
     "name": "stdout",
     "output_type": "stream",
     "text": [
      "False\n",
      "True\n"
     ]
    }
   ],
   "source": [
    "a = 'a234'\n",
    "b = '1234'\n",
    "\n",
    "def solution(s):\n",
    "    answer = True\n",
    "\n",
    "    if len(s)!=4 and len(s)!=6 :\n",
    "        return False\n",
    "\n",
    "    for i in s :\n",
    "        if 'A' <= i <= 'z':\n",
    "            return False\n",
    "\n",
    "    return answer\n",
    "\n",
    "print(solution(a))\n",
    "print(solution(b))\n",
    "\n"
   ]
  },
  {
   "cell_type": "code",
   "execution_count": 35,
   "metadata": {},
   "outputs": [],
   "source": []
  },
  {
   "cell_type": "code",
   "execution_count": null,
   "metadata": {},
   "outputs": [],
   "source": [
    "\n",
    "def solution(absolutes, signs):\n",
    "    answer=0\n",
    "    for x in range(len(signs)):\n",
    "        if signs[x]:\n",
    "            answer+=absolutes[x]*1\n",
    "        else:\n",
    "            answer+=absolutes[x]*(-1)\n",
    "\n",
    "    return answer"
   ]
  }
 ],
 "metadata": {
  "kernelspec": {
   "display_name": "Python 3.9.13 ('.env': venv)",
   "language": "python",
   "name": "python3"
  },
  "language_info": {
   "codemirror_mode": {
    "name": "ipython",
    "version": 3
   },
   "file_extension": ".py",
   "mimetype": "text/x-python",
   "name": "python",
   "nbconvert_exporter": "python",
   "pygments_lexer": "ipython3",
   "version": "3.9.13"
  },
  "orig_nbformat": 4,
  "vscode": {
   "interpreter": {
    "hash": "8ca8fd822d25e70a0528da72d643409df4423b0fb4cdb9bcf27bb186609ab618"
   }
  }
 },
 "nbformat": 4,
 "nbformat_minor": 2
}
